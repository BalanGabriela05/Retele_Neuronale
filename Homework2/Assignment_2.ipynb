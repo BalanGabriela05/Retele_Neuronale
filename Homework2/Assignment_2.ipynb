{
 "cells": [
  {
   "metadata": {
    "ExecuteTime": {
     "end_time": "2024-10-21T08:20:54.999760Z",
     "start_time": "2024-10-21T08:20:48.669251Z"
    }
   },
   "cell_type": "code",
   "source": [
    "# Load the MNIST dataset\n",
    "import numpy as np\n",
    "from torchvision.datasets import MNIST\n",
    "\n",
    "def download_mnist(is_train: bool):\n",
    "    dataset = MNIST(root='./data',\n",
    "                    transform=lambda x: np.array(x).flatten(),\n",
    "                    download=True,\n",
    "                    train=is_train)\n",
    "    mnist_data = []\n",
    "    mnist_labels = []\n",
    "    for image, label in dataset:\n",
    "        mnist_data.append(image)\n",
    "        mnist_labels.append(label)\n",
    "\n",
    "    return mnist_data, mnist_labels\n",
    "\n",
    "train_X, train_Y = download_mnist(True)\n",
    "test_X, test_Y = download_mnist(False)"
   ],
   "id": "9ba3eede9c03e5d1",
   "outputs": [],
   "execution_count": 22
  },
  {
   "metadata": {
    "ExecuteTime": {
     "end_time": "2024-10-21T08:20:58.738045Z",
     "start_time": "2024-10-21T08:20:58.176782Z"
    }
   },
   "cell_type": "code",
   "source": [
    "# Normalize the data\n",
    "\n",
    "# imaginile sunt in intervalul [0, 255] (alb-negru) si le vom normaliza la [0, 1] pentru a facilita antrenarea retelei\n",
    "train_X = np.array(train_X) / 255.0\n",
    "test_X = np.array(test_X) / 255.0\n",
    "\n",
    "# One-hot encode \n",
    "# ex de label one-hot encoding: 3 -> [0, 0, 0, 1, 0, 0, 0, 0, 0, 0]\n",
    "def one_hot_encode(labels, num_classes):\n",
    "    return np.eye(num_classes)[labels]\n",
    "\n",
    "train_Y = one_hot_encode(np.array(train_Y), 10)\n",
    "test_Y = one_hot_encode(np.array(test_Y), 10)\n"
   ],
   "id": "fac0919189a38433",
   "outputs": [],
   "execution_count": 23
  },
  {
   "metadata": {
    "ExecuteTime": {
     "end_time": "2024-10-21T08:21:03.553276Z",
     "start_time": "2024-10-21T08:21:03.534521Z"
    }
   },
   "cell_type": "code",
   "source": [
    "np.random.seed(0)  # pt a reproduce rez. pe care le-am obt. anterior (pt teste si performanta modelului) privind greutatile si biasul\n",
    "W = np.random.randn(784, 10) * 0.01 # initializarea greutatilor cu valori mici\n",
    "b = np.zeros((10,))  \n",
    "\n",
    "# softmax transforma scorurile brute în prob. intre 0 si 1\n",
    "def softmax(z):\n",
    "    exp_z = np.exp(z - np.max(z))  # evitarea overflow-ului (scaderea max. scorului)\n",
    "    return exp_z / np.sum(exp_z, axis=1, keepdims=True)\n",
    "# keepdims=True -> dimensiunea de pe rand va fi pastrata\n",
    "\n",
    "# calculeaza scorul pentru fiecare clasă (z = X * W + b)\n",
    "def forward_propagation(X):\n",
    "    z = np.dot(X, W) + b  # calcularea scorului\n",
    "    return softmax(z)  \n",
    "\n",
    "# calcularea erorii folosind cross-entropy loss (cat de departe sunt prob. prezise de cele reale)\n",
    "def cross_entropy_loss(y_pred, y_true):\n",
    "    m = y_true.shape[0]  \n",
    "    return -np.sum(y_true * np.log(y_pred + 1e-15)) / m  \n",
    "# 1e-15 -> pt a evita log(0) (este nedefinit), altfel calculul ar fi produs erori numerice\n",
    "\n",
    "# actualizeaza greutatile si biasul folosind gradientul erorii\n",
    "def gradient_descent(X, y_true, y_pred, learning_rate):\n",
    "    m = y_true.shape[0] # nr total de etichete true (batch size)\n",
    "    dz = (y_pred - y_true) / m  # derivata erorii ( directia in care trebuie sa actualizam greutatile)\n",
    "    global W, b\n",
    "    W -= learning_rate * np.dot(X.T, dz)  # actualizarea greutatilor\n",
    "    b -= learning_rate * np.sum(dz, axis=0)  # actualizarea biasului"
   ],
   "id": "bc967f9722b7eb00",
   "outputs": [],
   "execution_count": 24
  },
  {
   "metadata": {
    "ExecuteTime": {
     "end_time": "2024-10-21T08:22:13.185226Z",
     "start_time": "2024-10-21T08:22:13.151775Z"
    }
   },
   "cell_type": "code",
   "source": [
    "def predict(X):\n",
    "    y_pred = forward_propagation(X)\n",
    "    return np.argmax(y_pred, axis=1)  # clasa cu probabilitatea cea mai mare\n",
    "\n",
    "initial_predictions = predict(test_X)\n",
    "initial_accuracy = np.mean(initial_predictions == np.argmax(test_Y, axis=1)) * 100\n",
    "print(f'Initial accuracy: {initial_accuracy:.2f}%')\n"
   ],
   "id": "9de1341b0141d2d2",
   "outputs": [
    {
     "name": "stdout",
     "output_type": "stream",
     "text": [
      "Initial accuracy: 92.23%\n"
     ]
    }
   ],
   "execution_count": 31
  },
  {
   "metadata": {
    "ExecuteTime": {
     "end_time": "2024-10-21T08:24:23.324572Z",
     "start_time": "2024-10-21T08:22:21.214855Z"
    }
   },
   "cell_type": "code",
   "source": [
    "epochs = 300  # pot modifica acest numar intre 50 si 500\n",
    "learning_rate = 0.01\n",
    "\n",
    "# antrenarea modelului\n",
    "for epoch in range(epochs):\n",
    "    # impart datele in batch-uri de 100\n",
    "    for i in range(0, len(train_X), 100):\n",
    "        X_batch = train_X[i:i + 100]\n",
    "        y_batch = train_Y[i:i + 100]\n",
    "\n",
    "        # Forward propagation\n",
    "        y_pred = forward_propagation(X_batch)\n",
    "\n",
    "        # Calcularea erorii\n",
    "        loss = cross_entropy_loss(y_pred, y_batch)\n",
    "\n",
    "        # Actualizarea greutatilor si biasului\n",
    "        gradient_descent(X_batch, y_batch, y_pred, learning_rate)\n"
   ],
   "id": "50de35557ad47190",
   "outputs": [],
   "execution_count": 32
  },
  {
   "metadata": {
    "ExecuteTime": {
     "end_time": "2024-10-21T08:25:05.126853Z",
     "start_time": "2024-10-21T08:25:05.091049Z"
    }
   },
   "cell_type": "code",
   "source": [
    "final_predictions = predict(test_X)\n",
    "final_accuracy = np.mean(final_predictions == np.argmax(test_Y, axis=1)) * 100\n",
    "print(f'Final accuracy after training: {final_accuracy:.2f}%')\n"
   ],
   "id": "5205b90a6d0a0955",
   "outputs": [
    {
     "name": "stdout",
     "output_type": "stream",
     "text": [
      "Final accuracy after training: 92.56%\n"
     ]
    }
   ],
   "execution_count": 33
  },
  {
   "metadata": {},
   "cell_type": "code",
   "outputs": [],
   "execution_count": null,
   "source": "",
   "id": "39abd530d279a1d9"
  }
 ],
 "metadata": {
  "kernelspec": {
   "display_name": "Python 3",
   "language": "python",
   "name": "python3"
  },
  "language_info": {
   "codemirror_mode": {
    "name": "ipython",
    "version": 2
   },
   "file_extension": ".py",
   "mimetype": "text/x-python",
   "name": "python",
   "nbconvert_exporter": "python",
   "pygments_lexer": "ipython2",
   "version": "2.7.6"
  }
 },
 "nbformat": 4,
 "nbformat_minor": 5
}
