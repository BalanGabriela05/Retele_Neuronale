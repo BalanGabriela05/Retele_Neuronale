{
 "cells": [
  {
   "metadata": {},
   "cell_type": "markdown",
   "source": "1. Parsing the System of Equations :",
   "id": "69fd6d8639ef3178"
  },
  {
   "metadata": {
    "ExecuteTime": {
     "end_time": "2024-10-13T14:46:36.388710Z",
     "start_time": "2024-10-13T14:46:36.364076Z"
    }
   },
   "cell_type": "code",
   "source": [
    "import pathlib\n",
    "\n",
    "# Function to parse the system of equations from a file\n",
    "def parsing_system(path: pathlib.Path) -> tuple[list[list[float]], list[float]]:\n",
    "    with path.open() as file:\n",
    "        lines = file.readlines()\n",
    "    matrixA = []\n",
    "    vectorB = []\n",
    "    variables = ['x', 'y', 'z']\n",
    "\n",
    "    for line in lines:\n",
    "        equation = line.split(' ')\n",
    "        row = []\n",
    "        for var in variables:\n",
    "            for i in range(len(equation)):\n",
    "                if equation[i].find(var) != -1:\n",
    "                    coefficient = equation[i].replace(var, '')  # Extract the coefficient\n",
    "                    if coefficient == '' and (equation[i-1] == '+' or i == 0):\n",
    "                        row.append(1)\n",
    "                    elif coefficient == '' and equation[i-1] == '-':\n",
    "                        row.append(-1)\n",
    "                    else:\n",
    "                        row.append(int(coefficient))\n",
    "\n",
    "        vectorB.append(int(equation[-1]))\n",
    "        matrixA.append(row)\n",
    "\n",
    "    return matrixA, vectorB\n",
    "\n",
    "file_path = pathlib.Path(\"InputFile.txt\")\n",
    "\n",
    "A, B = parsing_system(file_path)\n",
    "\n",
    "print(f\"Matrix A: {A}\")\n",
    "print(f\"Vector B: {B}\")\n"
   ],
   "id": "66e8e8b60f5d428",
   "outputs": [
    {
     "name": "stdout",
     "output_type": "stream",
     "text": [
      "Matrix A: [[2, 3, -1], [1, -1, 4], [3, 1, 2]]\n",
      "Vector B: [5, 6, 7]\n"
     ]
    }
   ],
   "execution_count": 29
  },
  {
   "metadata": {},
   "cell_type": "markdown",
   "source": "2. Matrix and Vector Operations:",
   "id": "17cd9992c4937821"
  },
  {
   "metadata": {},
   "cell_type": "markdown",
   "source": [
    "a) Determinant: Write a function to compute the determinant of matrix\n",
    "A. Recall one of the formulae for the determinant of a 3x3 matrix:\n",
    "\n",
    "det(A) = a11(a22a33−a23a32)−a12(a21a33−a23a31)+a13(a21a32−a22a31)"
   ],
   "id": "a9caeacebb6a904f"
  },
  {
   "metadata": {
    "ExecuteTime": {
     "end_time": "2024-10-13T14:46:40.415634Z",
     "start_time": "2024-10-13T14:46:40.404858Z"
    }
   },
   "cell_type": "code",
   "source": [
    "def determinant(matrix: list[list[float]]) -> float:\n",
    "    a = matrix[0][0] * (matrix[1][1] * matrix[2][2] - matrix[1][2] * matrix[2][1])\n",
    "    b = matrix[0][1] * (matrix[1][0] * matrix[2][2] - matrix[1][2] * matrix[2][0])\n",
    "    c = matrix[0][2] * (matrix[1][0] * matrix[2][1] - matrix[1][1] * matrix[2][0])\n",
    "    return a - b + c\n",
    "\n",
    "print(f\"{determinant(A) = }\")\n"
   ],
   "id": "4cb86e445a0c3f8c",
   "outputs": [
    {
     "name": "stdout",
     "output_type": "stream",
     "text": [
      "determinant(A) = 14\n"
     ]
    }
   ],
   "execution_count": 30
  },
  {
   "metadata": {},
   "cell_type": "markdown",
   "source": [
    "b) Trace: Compute the sum of the elements along the main diagonal of\n",
    "matrix A. For a matrix A, this is:\n",
    "\n",
    "Trace(A) = a11 + a22 + a33"
   ],
   "id": "9ebf9f8ace748c16"
  },
  {
   "metadata": {
    "ExecuteTime": {
     "end_time": "2024-10-13T12:25:37.098576Z",
     "start_time": "2024-10-13T12:25:37.091929Z"
    }
   },
   "cell_type": "code",
   "source": [
    "def trace(matrix: list[list[float]]) -> float:\n",
    "    diagonal_sum = 0.0\n",
    "    for i in range(len(matrix)):\n",
    "        diagonal_sum += matrix[i][i]\n",
    "    return diagonal_sum\n",
    "\n",
    "print(f\"{trace(A) = }\")\n"
   ],
   "id": "fb0bf773c814ac4f",
   "outputs": [
    {
     "name": "stdout",
     "output_type": "stream",
     "text": [
      "trace(A) = 3.0\n"
     ]
    }
   ],
   "execution_count": 3
  },
  {
   "metadata": {},
   "cell_type": "markdown",
   "source": [
    "c) Vector norm: Compute the Euclidean norm of vector B, which is:\n",
    "\n",
    "||B|| = √(b1^2 + b2^2 + b3^2)"
   ],
   "id": "e4e9db71372be05"
  },
  {
   "metadata": {
    "ExecuteTime": {
     "end_time": "2024-10-13T12:26:39.819783Z",
     "start_time": "2024-10-13T12:26:39.812441Z"
    }
   },
   "cell_type": "code",
   "source": [
    "def norm(vector: list[float]) -> float:\n",
    "    return round(sum([v**2 for v in vector])**0.5, 2)\n",
    "\n",
    "print(f\"{norm(B) = }\")\n"
   ],
   "id": "39c285821f9df656",
   "outputs": [
    {
     "name": "stdout",
     "output_type": "stream",
     "text": [
      "norm(B) = 10.49\n"
     ]
    }
   ],
   "execution_count": 5
  },
  {
   "metadata": {},
   "cell_type": "markdown",
   "source": [
    "d) Transpose of matrix: Write a function to compute the transpose of\n",
    "matrix A. The transpose of a matrix A is obtained by swapping its rows\n",
    "and columns."
   ],
   "id": "38a7ca056851942e"
  },
  {
   "metadata": {
    "ExecuteTime": {
     "end_time": "2024-10-13T14:41:17.881902Z",
     "start_time": "2024-10-13T14:41:17.871220Z"
    }
   },
   "cell_type": "code",
   "source": [
    "def transpose_(matrix: list[list[float]]) -> list[list[float]]:\n",
    "    result = []\n",
    "    for col in range(len(matrix[0])): \n",
    "        new_row = []  \n",
    "        for row in range(len(matrix)):  \n",
    "            new_row.append(matrix[row][col])  \n",
    "        result.append(new_row) \n",
    "    return result\n",
    "\n",
    "\n",
    "def transpose(matrix: list[list[float]]) -> list[list[float]]:\n",
    "    return [[matrix[row][col] for row in range(len(matrix))] for col in range(len(matrix[0]))]\n",
    "#len(matrix[0]) is the number of columns\n",
    "#len(matrix) is the number of rows\n",
    "\n",
    "print(f\"{transpose(A) = }\")"
   ],
   "id": "b840fb4fd90d6a83",
   "outputs": [
    {
     "name": "stdout",
     "output_type": "stream",
     "text": [
      "transpose(A) = [[4, 3, 2], [7, 6, 5], [2, 1, 3]]\n"
     ]
    }
   ],
   "execution_count": 24
  },
  {
   "metadata": {},
   "cell_type": "markdown",
   "source": [
    "e) Matrix-vector multiplication: Write a function that multiplies matrix\n",
    "A with vector B."
   ],
   "id": "7455a48fa116c2e5"
  },
  {
   "metadata": {
    "ExecuteTime": {
     "end_time": "2024-10-13T14:41:24.039302Z",
     "start_time": "2024-10-13T14:41:24.032029Z"
    }
   },
   "cell_type": "code",
   "source": [
    "def multiply(matrix: list[list[float]], vector: list[float]) -> list[float]:\n",
    "    return [sum(matrix[i][j] * vector[j] for j in range(len(vector))) for i in range(len(matrix))]\n",
    "\n",
    "print(f\"{multiply(A, B) = }\")\n"
   ],
   "id": "890878ded8682f34",
   "outputs": [
    {
     "name": "stdout",
     "output_type": "stream",
     "text": [
      "multiply(A, B) =[76, 58, 61]\n"
     ]
    }
   ],
   "execution_count": 25
  },
  {
   "metadata": {},
   "cell_type": "markdown",
   "source": "3. Solving using Cramer’s Rule",
   "id": "c74750e3f0e69a8c"
  },
  {
   "metadata": {
    "ExecuteTime": {
     "end_time": "2024-10-13T14:40:58.178965Z",
     "start_time": "2024-10-13T14:40:58.170129Z"
    }
   },
   "cell_type": "code",
   "source": [
    "def solve_cramer(matrix: list[list[float]], vector: list[float]) -> list[float]:\n",
    "    det_A = determinant(matrix)\n",
    "    result = []\n",
    "    for i in range(len(matrix)):\n",
    "        new_matrix = [row.copy() for row in matrix] # Copy the matrix\n",
    "        for j in range(len(matrix)):\n",
    "            new_matrix[j][i] = vector[j]\n",
    "        result.append(round(determinant(new_matrix) / det_A, 2))\n",
    "    return result\n",
    "\n",
    "print(f\"{solve_cramer(A, B) = }\")"
   ],
   "id": "5c89b7686b7d2025",
   "outputs": [
    {
     "name": "stdout",
     "output_type": "stream",
     "text": [
      "solve_cramer(A, B)=[-4.0, 3.0, 0.0]\n"
     ]
    }
   ],
   "execution_count": 23
  },
  {
   "metadata": {},
   "cell_type": "markdown",
   "source": "4. Solving using Inversion",
   "id": "83f175fab97cde7d"
  },
  {
   "metadata": {
    "ExecuteTime": {
     "end_time": "2024-10-13T14:41:42.745569Z",
     "start_time": "2024-10-13T14:41:42.729363Z"
    }
   },
   "cell_type": "code",
   "source": [
    "def minor(matrix: list[list[float]], i: int, j: int) -> list[list[float]]:\n",
    "    return [row[:j] + row[j+1:] for row in (matrix[:i] + matrix[i+1:])]\n",
    "\n",
    "def cofactor(matrix: list[list[float]]) -> list[list[float]]:\n",
    "    cofactors = []\n",
    "    for i in range(len(matrix)):\n",
    "        cofactor_row = []\n",
    "        for j in range(len(matrix[i])):\n",
    "            minor_matrix = minor(matrix, i, j)\n",
    "            cofactor_value = ((-1) ** (i + j)) * determinant(minor_matrix) # (-1)^(i+j) * det(minor)\n",
    "            cofactor_row.append(cofactor_value)\n",
    "        cofactors.append(cofactor_row)\n",
    "    return cofactors\n",
    "\n",
    "def adjoint(matrix: list[list[float]]) -> list[list[float]]:\n",
    "    return [list(row) for row in zip(*cofactor(matrix))]\n",
    "\n",
    "def inverse(matrix: list[list[float]]) -> list[list[float]]:\n",
    "    det = determinant(matrix)\n",
    "    if det == 0:\n",
    "        raise ValueError(\"The determinant of the matrix is 0, so the matrix is not invertible.\")\n",
    "    adj = adjoint(matrix)\n",
    "    return [[adj[i][j] / det for j in range(len(matrix))] for i in range(len(matrix))]\n",
    "\n",
    "def solve(matrix: list[list[float]], vector: list[float]) -> list[float]:\n",
    "    inv_matrix = inverse(matrix)\n",
    "    return [round(sum(inv_matrix[i][j] * vector[j] for j in range(len(vector))), 2) for i in range(len(inv_matrix))]\n",
    "\n",
    "print(f\"{solve(A, B) = }\")"
   ],
   "id": "9256eac9bcf2a7c7",
   "outputs": [
    {
     "name": "stdout",
     "output_type": "stream",
     "text": [
      "solve(A, B) = [-4.0, 3.0, -0.0]\n"
     ]
    }
   ],
   "execution_count": 26
  }
 ],
 "metadata": {
  "kernelspec": {
   "display_name": "Python 3",
   "language": "python",
   "name": "python3"
  },
  "language_info": {
   "codemirror_mode": {
    "name": "ipython",
    "version": 2
   },
   "file_extension": ".py",
   "mimetype": "text/x-python",
   "name": "python",
   "nbconvert_exporter": "python",
   "pygments_lexer": "ipython2",
   "version": "2.7.6"
  }
 },
 "nbformat": 4,
 "nbformat_minor": 5
}
