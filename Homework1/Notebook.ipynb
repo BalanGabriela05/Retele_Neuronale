{
 "cells": [
  {
   "metadata": {},
   "cell_type": "markdown",
   "source": "1. Parsing the System of Equations :",
   "id": "69fd6d8639ef3178"
  },
  {
   "metadata": {
    "ExecuteTime": {
     "end_time": "2024-10-14T10:54:18.099860Z",
     "start_time": "2024-10-14T10:54:18.089634Z"
    }
   },
   "cell_type": "code",
   "source": [
    "import pathlib\n",
    "\n",
    "# Function to parse the system of equations from a file\n",
    "def parsing_system(path: pathlib.Path) -> tuple[list[list[float]], list[float]]:\n",
    "    with path.open() as file:\n",
    "        lines = file.readlines()\n",
    "    matrixA = []\n",
    "    vectorB = []\n",
    "    variables = ['x', 'y', 'z']\n",
    "\n",
    "    for line in lines:\n",
    "        equation = line.split(' ')\n",
    "        row = []\n",
    "        for var in variables:\n",
    "            for i in range(len(equation)):\n",
    "                if equation[i].find(var) != -1:\n",
    "                    coefficient = equation[i].replace(var, '')  # Extract the coefficient\n",
    "                    if coefficient == '' and (equation[i-1] == '+' or i == 0):\n",
    "                        row.append(1)\n",
    "                    elif coefficient == '' and equation[i-1] == '-':\n",
    "                        row.append(-1)\n",
    "                    else:\n",
    "                        row.append(int(coefficient))\n",
    "\n",
    "        vectorB.append(int(equation[-1]))\n",
    "        matrixA.append(row)\n",
    "\n",
    "    return matrixA, vectorB\n",
    "\n",
    "file_path = pathlib.Path(\"InputFile.txt\")\n",
    "\n",
    "A, B = parsing_system(file_path)\n",
    "\n",
    "print(f\"Matrix A: {A}\")\n",
    "print(f\"Vector B: {B}\")\n"
   ],
   "id": "66e8e8b60f5d428",
   "outputs": [
    {
     "name": "stdout",
     "output_type": "stream",
     "text": [
      "Matrix A: [[2, 3, -1], [1, -1, 4], [3, 1, 2]]\n",
      "Vector B: [5, 6, 7]\n"
     ]
    }
   ],
   "execution_count": 16
  },
  {
   "metadata": {},
   "cell_type": "markdown",
   "source": "2. Matrix and Vector Operations:",
   "id": "17cd9992c4937821"
  },
  {
   "metadata": {},
   "cell_type": "markdown",
   "source": [
    "a) Determinant: Write a function to compute the determinant of matrix\n",
    "A. Recall one of the formulae for the determinant of a 3x3 matrix:\n",
    "\n",
    "det(A) = a11(a22a33−a23a32)−a12(a21a33−a23a31)+a13(a21a32−a22a31)"
   ],
   "id": "a9caeacebb6a904f"
  },
  {
   "metadata": {
    "ExecuteTime": {
     "end_time": "2024-10-14T10:57:09.962597Z",
     "start_time": "2024-10-14T10:57:09.952149Z"
    }
   },
   "cell_type": "code",
   "source": [
    "def determinant_(matrix: list[list[float]]) -> float:\n",
    "    a = matrix[0][0] * (matrix[1][1] * matrix[2][2] - matrix[1][2] * matrix[2][1])\n",
    "    b = matrix[0][1] * (matrix[1][0] * matrix[2][2] - matrix[1][2] * matrix[2][0])\n",
    "    c = matrix[0][2] * (matrix[1][0] * matrix[2][1] - matrix[1][1] * matrix[2][0])\n",
    "    return a - b + c\n",
    "\n",
    "\n",
    "def determinant(matrix: list[list[float]]) -> float:\n",
    "    # Base case for 2x2 matrix\n",
    "    if len(matrix) == 2:\n",
    "        return matrix[0][0] * matrix[1][1] - matrix[0][1] * matrix[1][0]\n",
    "\n",
    "    det = 0\n",
    "    for c in range(len(matrix)):\n",
    "        det += ((-1) ** c) * matrix[0][c] * determinant(minor(matrix, 0, c))\n",
    "    return det\n",
    "print(f\"{determinant(A) = }\")"
   ],
   "id": "4cb86e445a0c3f8c",
   "outputs": [
    {
     "name": "stdout",
     "output_type": "stream",
     "text": [
      "determinant(A) = 14\n"
     ]
    }
   ],
   "execution_count": 24
  },
  {
   "metadata": {},
   "cell_type": "markdown",
   "source": [
    "b) Trace: Compute the sum of the elements along the main diagonal of\n",
    "matrix A. For a matrix A, this is:\n",
    "\n",
    "Trace(A) = a11 + a22 + a33"
   ],
   "id": "9ebf9f8ace748c16"
  },
  {
   "metadata": {
    "ExecuteTime": {
     "end_time": "2024-10-14T10:54:23.111667Z",
     "start_time": "2024-10-14T10:54:23.105175Z"
    }
   },
   "cell_type": "code",
   "source": [
    "def trace(matrix: list[list[float]]) -> float:\n",
    "    diagonal_sum = 0.0\n",
    "    for i in range(len(matrix)):\n",
    "        diagonal_sum += matrix[i][i]\n",
    "    return diagonal_sum\n",
    "\n",
    "print(f\"{trace(A) = }\")\n"
   ],
   "id": "fb0bf773c814ac4f",
   "outputs": [
    {
     "name": "stdout",
     "output_type": "stream",
     "text": [
      "trace(A) = 3.0\n"
     ]
    }
   ],
   "execution_count": 18
  },
  {
   "metadata": {},
   "cell_type": "markdown",
   "source": [
    "c) Vector norm: Compute the Euclidean norm of vector B, which is:\n",
    "\n",
    "||B|| = √(b1^2 + b2^2 + b3^2)"
   ],
   "id": "e4e9db71372be05"
  },
  {
   "metadata": {
    "ExecuteTime": {
     "end_time": "2024-10-14T10:54:25.321372Z",
     "start_time": "2024-10-14T10:54:25.314147Z"
    }
   },
   "cell_type": "code",
   "source": [
    "def norm(vector: list[float]) -> float:\n",
    "    return round(sum([v**2 for v in vector])**0.5, 2)\n",
    "\n",
    "print(f\"{norm(B) = }\")\n"
   ],
   "id": "39c285821f9df656",
   "outputs": [
    {
     "name": "stdout",
     "output_type": "stream",
     "text": [
      "norm(B) = 10.49\n"
     ]
    }
   ],
   "execution_count": 19
  },
  {
   "metadata": {},
   "cell_type": "markdown",
   "source": [
    "d) Transpose of matrix: Write a function to compute the transpose of\n",
    "matrix A. The transpose of a matrix A is obtained by swapping its rows\n",
    "and columns."
   ],
   "id": "38a7ca056851942e"
  },
  {
   "metadata": {
    "ExecuteTime": {
     "end_time": "2024-10-14T10:54:27.158511Z",
     "start_time": "2024-10-14T10:54:27.148853Z"
    }
   },
   "cell_type": "code",
   "source": [
    "def transpose_(matrix: list[list[float]]) -> list[list[float]]:\n",
    "    result = []\n",
    "    for col in range(len(matrix[0])): \n",
    "        new_row = []  \n",
    "        for row in range(len(matrix)):  \n",
    "            new_row.append(matrix[row][col])  \n",
    "        result.append(new_row) \n",
    "    return result\n",
    "\n",
    "\n",
    "def transpose(matrix: list[list[float]]) -> list[list[float]]:\n",
    "    return [[matrix[row][col] for row in range(len(matrix))] for col in range(len(matrix[0]))]\n",
    "\n",
    "print(f\"{transpose(A) = }\")\n",
    "\n",
    "#len(matrix[0]) is the number of columns\n",
    "#len(matrix) is the number of rows"
   ],
   "id": "b840fb4fd90d6a83",
   "outputs": [
    {
     "name": "stdout",
     "output_type": "stream",
     "text": [
      "transpose(A) = [[2, 1, 3], [3, -1, 1], [-1, 4, 2]]\n"
     ]
    }
   ],
   "execution_count": 20
  },
  {
   "metadata": {},
   "cell_type": "markdown",
   "source": [
    "e) Matrix-vector multiplication: Write a function that multiplies matrix\n",
    "A with vector B."
   ],
   "id": "7455a48fa116c2e5"
  },
  {
   "metadata": {
    "ExecuteTime": {
     "end_time": "2024-10-14T10:54:28.826194Z",
     "start_time": "2024-10-14T10:54:28.819494Z"
    }
   },
   "cell_type": "code",
   "source": [
    "def multiply(matrix: list[list[float]], vector: list[float]) -> list[float]:\n",
    "    return [sum(matrix[i][j] * vector[j] for j in range(len(vector))) for i in range(len(matrix))]\n",
    "\n",
    "print(f\"{multiply(A, B) = }\")\n"
   ],
   "id": "890878ded8682f34",
   "outputs": [
    {
     "name": "stdout",
     "output_type": "stream",
     "text": [
      "multiply(A, B) = [21, 27, 35]\n"
     ]
    }
   ],
   "execution_count": 21
  },
  {
   "metadata": {},
   "cell_type": "markdown",
   "source": "3. Solving using Cramer’s Rule",
   "id": "c74750e3f0e69a8c"
  },
  {
   "metadata": {
    "ExecuteTime": {
     "end_time": "2024-10-14T10:54:30.587366Z",
     "start_time": "2024-10-14T10:54:30.579089Z"
    }
   },
   "cell_type": "code",
   "source": [
    "def solve_cramer(matrix: list[list[float]], vector: list[float]) -> list[float]:\n",
    "    det_A = determinant(matrix)\n",
    "    result = []\n",
    "    for i in range(len(matrix)):\n",
    "        new_matrix = [row.copy() for row in matrix] # Copy the matrix\n",
    "        for j in range(len(matrix)):\n",
    "            new_matrix[j][i] = vector[j]\n",
    "        result.append(round(determinant(new_matrix) / det_A, 2))\n",
    "    return result\n",
    "\n",
    "print(f\"{solve_cramer(A, B) = }\")"
   ],
   "id": "5c89b7686b7d2025",
   "outputs": [
    {
     "name": "stdout",
     "output_type": "stream",
     "text": [
      "solve_cramer(A, B) = [0.36, 2.07, 1.93]\n"
     ]
    }
   ],
   "execution_count": 22
  },
  {
   "metadata": {},
   "cell_type": "markdown",
   "source": "4. Solving using Inversion",
   "id": "83f175fab97cde7d"
  },
  {
   "metadata": {
    "ExecuteTime": {
     "end_time": "2024-10-14T10:57:15.049151Z",
     "start_time": "2024-10-14T10:57:15.036591Z"
    }
   },
   "cell_type": "code",
   "source": [
    "def minor(matrix: list[list[float]], i: int, j: int) -> list[list[float]]:\n",
    "    return [row[:j] + row[j+1:] for row in (matrix[:i] + matrix[i+1:])]\n",
    "\n",
    "def cofactor(matrix: list[list[float]]) -> list[list[float]]:\n",
    "    cofactors = []\n",
    "    for i in range(len(matrix)):\n",
    "        cofactor_row = []\n",
    "        for j in range(len(matrix[i])):\n",
    "            minor_matrix = minor(matrix, i, j)\n",
    "            cofactor_value = ((-1) ** (i + j)) * determinant(minor_matrix) # (-1)^(i+j) * det(minor)\n",
    "            cofactor_row.append(cofactor_value)\n",
    "        cofactors.append(cofactor_row)\n",
    "    return cofactors\n",
    "\n",
    "def adjoint(matrix: list[list[float]]) -> list[list[float]]:\n",
    "    return [list(row) for row in zip(*cofactor(matrix))]\n",
    "\n",
    "def inverse(matrix: list[list[float]]) -> list[list[float]]:\n",
    "    det = determinant(matrix)\n",
    "    if det == 0:\n",
    "        raise ValueError(\"The determinant of the matrix is 0, so the matrix is not invertible.\")\n",
    "    adj = adjoint(matrix)\n",
    "    return [[adj[i][j] / det for j in range(len(matrix))] for i in range(len(matrix))]\n",
    "\n",
    "def solve(matrix: list[list[float]], vector: list[float]) -> list[float]:\n",
    "    inv_matrix = inverse(matrix)\n",
    "    return [round(sum(inv_matrix[i][j] * vector[j] for j in range(len(vector))), 2) for i in range(len(inv_matrix))]\n",
    "\n",
    "print(f\"{solve(A, B) = }\")\n"
   ],
   "id": "9256eac9bcf2a7c7",
   "outputs": [
    {
     "name": "stdout",
     "output_type": "stream",
     "text": [
      "solve(A, B) = [0.36, 2.07, 1.93]\n"
     ]
    }
   ],
   "execution_count": 25
  },
  {
   "metadata": {},
   "cell_type": "code",
   "outputs": [],
   "execution_count": null,
   "source": "",
   "id": "388e56661d8c5623"
  }
 ],
 "metadata": {
  "kernelspec": {
   "display_name": "Python 3",
   "language": "python",
   "name": "python3"
  },
  "language_info": {
   "codemirror_mode": {
    "name": "ipython",
    "version": 2
   },
   "file_extension": ".py",
   "mimetype": "text/x-python",
   "name": "python",
   "nbconvert_exporter": "python",
   "pygments_lexer": "ipython2",
   "version": "2.7.6"
  }
 },
 "nbformat": 4,
 "nbformat_minor": 5
}
